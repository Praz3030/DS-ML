{
 "cells": [
  {
   "cell_type": "code",
   "execution_count": 1,
   "id": "6ef04d78-ef3f-4533-9547-8213b5c8b698",
   "metadata": {},
   "outputs": [],
   "source": [
    "import pandas as pd\n",
    "import numpy as np\n",
    "import matplotlib.pyplot as plt\n",
    "import sklearn"
   ]
  },
  {
   "cell_type": "code",
   "execution_count": 11,
   "id": "a7fdd114-4a4d-45e6-82b7-bcbd94a2c13a",
   "metadata": {},
   "outputs": [],
   "source": [
    "a1=np.array([1,2,3])"
   ]
  },
  {
   "cell_type": "code",
   "execution_count": 15,
   "id": "4341930e-5be9-4f01-ac60-b8760fe68593",
   "metadata": {},
   "outputs": [],
   "source": [
    "a2=np.array([[1,2,3],\n",
    "            [4,5,6]])"
   ]
  },
  {
   "cell_type": "code",
   "execution_count": 16,
   "id": "8a62cc64-a3c2-4d2c-ae52-e93adc9591db",
   "metadata": {},
   "outputs": [],
   "source": [
    "a3=np.array([[[1,2,3],[4,5,6],[7,8,9]],[[10,11,12],[13,14,15],[16,17,18]]])"
   ]
  },
  {
   "cell_type": "code",
   "execution_count": 18,
   "id": "46a5853a-a3bb-4959-81e5-c522c05c6447",
   "metadata": {},
   "outputs": [
    {
     "data": {
      "text/plain": [
       "1"
      ]
     },
     "execution_count": 18,
     "metadata": {},
     "output_type": "execute_result"
    }
   ],
   "source": [
    "a1.ndim"
   ]
  },
  {
   "cell_type": "code",
   "execution_count": 19,
   "id": "112afb01-894d-4a69-b525-18a0fd59e17a",
   "metadata": {},
   "outputs": [
    {
     "data": {
      "text/plain": [
       "(1, 2, 3)"
      ]
     },
     "execution_count": 19,
     "metadata": {},
     "output_type": "execute_result"
    }
   ],
   "source": [
    "a1.ndim,a2.ndim,a3.ndim"
   ]
  },
  {
   "cell_type": "code",
   "execution_count": 21,
   "id": "6e4d7c66-6f68-42e4-bb11-29f1c239c619",
   "metadata": {},
   "outputs": [],
   "source": [
    "praz=pd.DataFrame(a2)"
   ]
  },
  {
   "cell_type": "code",
   "execution_count": 22,
   "id": "a7cf68c1-f472-4987-9c18-0800931d80bf",
   "metadata": {},
   "outputs": [
    {
     "data": {
      "text/html": [
       "<div>\n",
       "<style scoped>\n",
       "    .dataframe tbody tr th:only-of-type {\n",
       "        vertical-align: middle;\n",
       "    }\n",
       "\n",
       "    .dataframe tbody tr th {\n",
       "        vertical-align: top;\n",
       "    }\n",
       "\n",
       "    .dataframe thead th {\n",
       "        text-align: right;\n",
       "    }\n",
       "</style>\n",
       "<table border=\"1\" class=\"dataframe\">\n",
       "  <thead>\n",
       "    <tr style=\"text-align: right;\">\n",
       "      <th></th>\n",
       "      <th>0</th>\n",
       "      <th>1</th>\n",
       "      <th>2</th>\n",
       "    </tr>\n",
       "  </thead>\n",
       "  <tbody>\n",
       "    <tr>\n",
       "      <th>0</th>\n",
       "      <td>1</td>\n",
       "      <td>2</td>\n",
       "      <td>3</td>\n",
       "    </tr>\n",
       "    <tr>\n",
       "      <th>1</th>\n",
       "      <td>4</td>\n",
       "      <td>5</td>\n",
       "      <td>6</td>\n",
       "    </tr>\n",
       "  </tbody>\n",
       "</table>\n",
       "</div>"
      ],
      "text/plain": [
       "   0  1  2\n",
       "0  1  2  3\n",
       "1  4  5  6"
      ]
     },
     "execution_count": 22,
     "metadata": {},
     "output_type": "execute_result"
    }
   ],
   "source": [
    "praz"
   ]
  },
  {
   "cell_type": "code",
   "execution_count": 25,
   "id": "1905e1ea-379a-43d4-82ec-c03ad33817d6",
   "metadata": {},
   "outputs": [],
   "source": [
    "praz=pd.Series(a1)"
   ]
  },
  {
   "cell_type": "code",
   "execution_count": 26,
   "id": "5bd8f692-d446-4e8b-b53d-c5830526d122",
   "metadata": {},
   "outputs": [
    {
     "data": {
      "text/plain": [
       "0    1\n",
       "1    2\n",
       "2    3\n",
       "dtype: int32"
      ]
     },
     "execution_count": 26,
     "metadata": {},
     "output_type": "execute_result"
    }
   ],
   "source": [
    "praz"
   ]
  },
  {
   "cell_type": "code",
   "execution_count": 48,
   "id": "0cd33160-c122-4b09-86e0-8b96f79e8600",
   "metadata": {},
   "outputs": [],
   "source": [
    "x=pd.Series([1,2,3])\n",
    "y=pd.Series([True])"
   ]
  },
  {
   "cell_type": "code",
   "execution_count": 51,
   "id": "9e334e81-780a-47dc-ac71-f5d22526e9f8",
   "metadata": {},
   "outputs": [],
   "source": [
    "A=pd.DataFrame({\"Numbers\":x,\"value\":y})"
   ]
  },
  {
   "cell_type": "code",
   "execution_count": 52,
   "id": "072a860f-a3d2-4dc0-925f-5b04b40b3f18",
   "metadata": {},
   "outputs": [
    {
     "data": {
      "text/html": [
       "<div>\n",
       "<style scoped>\n",
       "    .dataframe tbody tr th:only-of-type {\n",
       "        vertical-align: middle;\n",
       "    }\n",
       "\n",
       "    .dataframe tbody tr th {\n",
       "        vertical-align: top;\n",
       "    }\n",
       "\n",
       "    .dataframe thead th {\n",
       "        text-align: right;\n",
       "    }\n",
       "</style>\n",
       "<table border=\"1\" class=\"dataframe\">\n",
       "  <thead>\n",
       "    <tr style=\"text-align: right;\">\n",
       "      <th></th>\n",
       "      <th>Numbers</th>\n",
       "      <th>value</th>\n",
       "    </tr>\n",
       "  </thead>\n",
       "  <tbody>\n",
       "    <tr>\n",
       "      <th>0</th>\n",
       "      <td>1</td>\n",
       "      <td>True</td>\n",
       "    </tr>\n",
       "    <tr>\n",
       "      <th>1</th>\n",
       "      <td>2</td>\n",
       "      <td>NaN</td>\n",
       "    </tr>\n",
       "    <tr>\n",
       "      <th>2</th>\n",
       "      <td>3</td>\n",
       "      <td>NaN</td>\n",
       "    </tr>\n",
       "  </tbody>\n",
       "</table>\n",
       "</div>"
      ],
      "text/plain": [
       "   Numbers value\n",
       "0        1  True\n",
       "1        2   NaN\n",
       "2        3   NaN"
      ]
     },
     "execution_count": 52,
     "metadata": {},
     "output_type": "execute_result"
    }
   ],
   "source": [
    "A"
   ]
  },
  {
   "cell_type": "code",
   "execution_count": 55,
   "id": "fb3a9bd5-c7e8-413d-98fc-3c7131aa11c9",
   "metadata": {},
   "outputs": [
    {
     "data": {
      "text/plain": [
       "3"
      ]
     },
     "execution_count": 55,
     "metadata": {},
     "output_type": "execute_result"
    }
   ],
   "source": [
    "A[\"Numbers\"].loc[2]"
   ]
  },
  {
   "cell_type": "code",
   "execution_count": 58,
   "id": "cb5d07d1-68b9-46a1-8403-4a189ec73636",
   "metadata": {},
   "outputs": [
    {
     "data": {
      "text/plain": [
       "True"
      ]
     },
     "execution_count": 58,
     "metadata": {},
     "output_type": "execute_result"
    }
   ],
   "source": [
    "A[\"value\"].loc[0]"
   ]
  },
  {
   "cell_type": "code",
   "execution_count": 62,
   "id": "351abae1-edd4-4662-8edc-5241d837b6e8",
   "metadata": {},
   "outputs": [],
   "source": [
    "for i in range(0,11):\n",
    "    A.loc[i,\"Numbers\"]=i\n",
    "    A.loc[i,\"value\"]=True"
   ]
  },
  {
   "cell_type": "code",
   "execution_count": 63,
   "id": "e76a8bad-a516-4ecb-87bc-6c467d2c8891",
   "metadata": {},
   "outputs": [
    {
     "data": {
      "text/html": [
       "<div>\n",
       "<style scoped>\n",
       "    .dataframe tbody tr th:only-of-type {\n",
       "        vertical-align: middle;\n",
       "    }\n",
       "\n",
       "    .dataframe tbody tr th {\n",
       "        vertical-align: top;\n",
       "    }\n",
       "\n",
       "    .dataframe thead th {\n",
       "        text-align: right;\n",
       "    }\n",
       "</style>\n",
       "<table border=\"1\" class=\"dataframe\">\n",
       "  <thead>\n",
       "    <tr style=\"text-align: right;\">\n",
       "      <th></th>\n",
       "      <th>Numbers</th>\n",
       "      <th>value</th>\n",
       "    </tr>\n",
       "  </thead>\n",
       "  <tbody>\n",
       "    <tr>\n",
       "      <th>0</th>\n",
       "      <td>0.0</td>\n",
       "      <td>True</td>\n",
       "    </tr>\n",
       "    <tr>\n",
       "      <th>1</th>\n",
       "      <td>1.0</td>\n",
       "      <td>True</td>\n",
       "    </tr>\n",
       "    <tr>\n",
       "      <th>2</th>\n",
       "      <td>2.0</td>\n",
       "      <td>True</td>\n",
       "    </tr>\n",
       "    <tr>\n",
       "      <th>3</th>\n",
       "      <td>3.0</td>\n",
       "      <td>True</td>\n",
       "    </tr>\n",
       "    <tr>\n",
       "      <th>4</th>\n",
       "      <td>4.0</td>\n",
       "      <td>True</td>\n",
       "    </tr>\n",
       "    <tr>\n",
       "      <th>5</th>\n",
       "      <td>5.0</td>\n",
       "      <td>True</td>\n",
       "    </tr>\n",
       "    <tr>\n",
       "      <th>6</th>\n",
       "      <td>6.0</td>\n",
       "      <td>True</td>\n",
       "    </tr>\n",
       "    <tr>\n",
       "      <th>7</th>\n",
       "      <td>7.0</td>\n",
       "      <td>True</td>\n",
       "    </tr>\n",
       "    <tr>\n",
       "      <th>8</th>\n",
       "      <td>8.0</td>\n",
       "      <td>True</td>\n",
       "    </tr>\n",
       "    <tr>\n",
       "      <th>9</th>\n",
       "      <td>9.0</td>\n",
       "      <td>True</td>\n",
       "    </tr>\n",
       "    <tr>\n",
       "      <th>10</th>\n",
       "      <td>10.0</td>\n",
       "      <td>True</td>\n",
       "    </tr>\n",
       "  </tbody>\n",
       "</table>\n",
       "</div>"
      ],
      "text/plain": [
       "    Numbers value\n",
       "0       0.0  True\n",
       "1       1.0  True\n",
       "2       2.0  True\n",
       "3       3.0  True\n",
       "4       4.0  True\n",
       "5       5.0  True\n",
       "6       6.0  True\n",
       "7       7.0  True\n",
       "8       8.0  True\n",
       "9       9.0  True\n",
       "10     10.0  True"
      ]
     },
     "execution_count": 63,
     "metadata": {},
     "output_type": "execute_result"
    }
   ],
   "source": [
    "A"
   ]
  },
  {
   "cell_type": "code",
   "execution_count": 2,
   "id": "c3af9ea1-133f-4425-9258-4faf27b17dbd",
   "metadata": {},
   "outputs": [],
   "source": [
    "abc=np.arange(0,10,1)"
   ]
  },
  {
   "cell_type": "code",
   "execution_count": 3,
   "id": "1a200bf9-693c-40db-9bd0-1388c0dce274",
   "metadata": {},
   "outputs": [
    {
     "data": {
      "text/plain": [
       "array([0, 1, 2, 3, 4, 5, 6, 7, 8, 9])"
      ]
     },
     "execution_count": 3,
     "metadata": {},
     "output_type": "execute_result"
    }
   ],
   "source": [
    "abc"
   ]
  },
  {
   "cell_type": "code",
   "execution_count": 8,
   "id": "8ac1ade0-e9fd-4018-87c3-e4f97310db46",
   "metadata": {},
   "outputs": [],
   "source": [
    "a=pd.DataFrame({\"numbers\":abc})"
   ]
  },
  {
   "cell_type": "code",
   "execution_count": 9,
   "id": "bff1e676-22b1-46a8-b7f9-0f0a7702cca5",
   "metadata": {},
   "outputs": [
    {
     "data": {
      "text/html": [
       "<div>\n",
       "<style scoped>\n",
       "    .dataframe tbody tr th:only-of-type {\n",
       "        vertical-align: middle;\n",
       "    }\n",
       "\n",
       "    .dataframe tbody tr th {\n",
       "        vertical-align: top;\n",
       "    }\n",
       "\n",
       "    .dataframe thead th {\n",
       "        text-align: right;\n",
       "    }\n",
       "</style>\n",
       "<table border=\"1\" class=\"dataframe\">\n",
       "  <thead>\n",
       "    <tr style=\"text-align: right;\">\n",
       "      <th></th>\n",
       "      <th>numbers</th>\n",
       "    </tr>\n",
       "  </thead>\n",
       "  <tbody>\n",
       "    <tr>\n",
       "      <th>0</th>\n",
       "      <td>0</td>\n",
       "    </tr>\n",
       "    <tr>\n",
       "      <th>1</th>\n",
       "      <td>1</td>\n",
       "    </tr>\n",
       "    <tr>\n",
       "      <th>2</th>\n",
       "      <td>2</td>\n",
       "    </tr>\n",
       "    <tr>\n",
       "      <th>3</th>\n",
       "      <td>3</td>\n",
       "    </tr>\n",
       "    <tr>\n",
       "      <th>4</th>\n",
       "      <td>4</td>\n",
       "    </tr>\n",
       "    <tr>\n",
       "      <th>5</th>\n",
       "      <td>5</td>\n",
       "    </tr>\n",
       "    <tr>\n",
       "      <th>6</th>\n",
       "      <td>6</td>\n",
       "    </tr>\n",
       "    <tr>\n",
       "      <th>7</th>\n",
       "      <td>7</td>\n",
       "    </tr>\n",
       "    <tr>\n",
       "      <th>8</th>\n",
       "      <td>8</td>\n",
       "    </tr>\n",
       "    <tr>\n",
       "      <th>9</th>\n",
       "      <td>9</td>\n",
       "    </tr>\n",
       "  </tbody>\n",
       "</table>\n",
       "</div>"
      ],
      "text/plain": [
       "   numbers\n",
       "0        0\n",
       "1        1\n",
       "2        2\n",
       "3        3\n",
       "4        4\n",
       "5        5\n",
       "6        6\n",
       "7        7\n",
       "8        8\n",
       "9        9"
      ]
     },
     "execution_count": 9,
     "metadata": {},
     "output_type": "execute_result"
    }
   ],
   "source": [
    "a"
   ]
  },
  {
   "cell_type": "code",
   "execution_count": 10,
   "id": "e8d71198-3a0d-4227-b247-3479ffa54f11",
   "metadata": {},
   "outputs": [
    {
     "data": {
      "text/plain": [
       "5"
      ]
     },
     "execution_count": 10,
     "metadata": {},
     "output_type": "execute_result"
    }
   ],
   "source": [
    "np.random.randint(0,10)"
   ]
  },
  {
   "cell_type": "code",
   "execution_count": 18,
   "id": "0733ac81-472a-4328-a888-3bc35376b26a",
   "metadata": {},
   "outputs": [],
   "source": [
    "abc=np.random.randint(0,10,size=(10))"
   ]
  },
  {
   "cell_type": "code",
   "execution_count": 19,
   "id": "9d82919e-d32d-4a01-8467-4b384b3294c5",
   "metadata": {},
   "outputs": [
    {
     "data": {
      "text/plain": [
       "array([4, 0, 1, 5, 2, 1, 3, 4, 0, 0])"
      ]
     },
     "execution_count": 19,
     "metadata": {},
     "output_type": "execute_result"
    }
   ],
   "source": [
    "abc"
   ]
  },
  {
   "cell_type": "code",
   "execution_count": 4,
   "id": "76663a55-ebdb-4d81-a96b-eee2d596bb4b",
   "metadata": {},
   "outputs": [],
   "source": [
    "import numpy as np\n",
    "import pandas as pd"
   ]
  },
  {
   "cell_type": "code",
   "execution_count": 5,
   "id": "9c4de0fb-b1b2-4333-b1e9-3e026270b594",
   "metadata": {},
   "outputs": [],
   "source": [
    "a=np.array([2,23,23])"
   ]
  },
  {
   "cell_type": "code",
   "execution_count": 6,
   "id": "0551d966-2c7b-4271-a495-f4c1a6cc2dd4",
   "metadata": {},
   "outputs": [
    {
     "data": {
      "text/plain": [
       "array([ 2, 23, 23])"
      ]
     },
     "execution_count": 6,
     "metadata": {},
     "output_type": "execute_result"
    }
   ],
   "source": [
    "a\n"
   ]
  },
  {
   "cell_type": "code",
   "execution_count": 7,
   "id": "4137c2a1-4054-485b-ae5a-74c81421a9ac",
   "metadata": {},
   "outputs": [],
   "source": [
    "import pandas as pd\n",
    "import numpy as np\n",
    "import matplotlib.pyplot as plt\n",
    "import sklearn"
   ]
  },
  {
   "cell_type": "code",
   "execution_count": 8,
   "id": "a9ffe294-c7d6-44b0-b4b9-79aa45f21860",
   "metadata": {},
   "outputs": [],
   "source": [
    "a=np.array([2,23,23])"
   ]
  },
  {
   "cell_type": "code",
   "execution_count": 10,
   "id": "8ffc99b9-9611-40ee-b6db-283936a72191",
   "metadata": {},
   "outputs": [
    {
     "data": {
      "text/plain": [
       "numpy.ndarray"
      ]
     },
     "execution_count": 10,
     "metadata": {},
     "output_type": "execute_result"
    }
   ],
   "source": [
    "type(a)"
   ]
  },
  {
   "cell_type": "code",
   "execution_count": 11,
   "id": "48c9d96e-eeee-4d6e-9a54-dd3bd0b43eed",
   "metadata": {},
   "outputs": [
    {
     "data": {
      "text/plain": [
       "3"
      ]
     },
     "execution_count": 11,
     "metadata": {},
     "output_type": "execute_result"
    }
   ],
   "source": [
    "np.size(a)"
   ]
  },
  {
   "cell_type": "code",
   "execution_count": 12,
   "id": "87374983-4c6c-4cb2-91ae-e263799be44c",
   "metadata": {},
   "outputs": [
    {
     "data": {
      "text/plain": [
       "48"
      ]
     },
     "execution_count": 12,
     "metadata": {},
     "output_type": "execute_result"
    }
   ],
   "source": [
    "np.sum(a)"
   ]
  },
  {
   "cell_type": "code",
   "execution_count": 15,
   "id": "8ec1d87d-c0c2-4f16-a7bb-70b8877b7a82",
   "metadata": {},
   "outputs": [],
   "source": [
    "b=np.array([[1,2,3,4],\n",
    "            [5,4,5,6]])"
   ]
  },
  {
   "cell_type": "code",
   "execution_count": 16,
   "id": "284311e2-44ce-4cb3-badb-5bca5ef4b6ee",
   "metadata": {},
   "outputs": [
    {
     "data": {
      "text/plain": [
       "1.5612494995995996"
      ]
     },
     "execution_count": 16,
     "metadata": {},
     "output_type": "execute_result"
    }
   ],
   "source": [
    "np.std(b)"
   ]
  },
  {
   "cell_type": "code",
   "execution_count": 20,
   "id": "8a5ea5e7-e8fc-46c7-8a0b-61263b0c5710",
   "metadata": {},
   "outputs": [
    {
     "data": {
      "image/png": "[encoded data removed]",
      "text/plain": [
       "<Figure size 640x480 with 1 Axes>"
      ]
     },
     "metadata": {},
     "output_type": "display_data"
    }
   ],
   "source": [
    "plt.hist(b)\n",
    "plt.show()"
   ]
  },
  {
   "cell_type": "code",
   "execution_count": 21,
   "id": "dc0ce876-7dd6-4411-a341-5327a466f0c6",
   "metadata": {},
   "outputs": [
    {
     "ename": "ValueError",
     "evalue": "operands could not be broadcast together with shapes (3,) (2,4) ",
     "output_type": "error",
     "traceback": [
      "\u001b[1;31m---------------------------------------------------------------------------\u001b[0m",
      "\u001b[1;31mValueError\u001b[0m                                Traceback (most recent call last)",
      "Cell \u001b[1;32mIn[21], line 1\u001b[0m\n\u001b[1;32m----> 1\u001b[0m a\u001b[38;5;241m*\u001b[39mb\n",
      "\u001b[1;31mValueError\u001b[0m: operands could not be broadcast together with shapes (3,) (2,4) "
     ]
    }
   ],
   "source": [
    "a*b"
   ]
  },
  {
   "cell_type": "code",
   "execution_count": 23,
   "id": "179613fb-eb44-4df2-9542-f3f9a3df5134",
   "metadata": {},
   "outputs": [
    {
     "data": {
      "text/plain": [
       "(3,)"
      ]
     },
     "execution_count": 23,
     "metadata": {},
     "output_type": "execute_result"
    }
   ],
   "source": [
    "a.shape"
   ]
  },
  {
   "cell_type": "code",
   "execution_count": 24,
   "id": "54d3ac47-c15a-4415-a36c-33f3077dbb6e",
   "metadata": {},
   "outputs": [
    {
     "data": {
      "text/plain": [
       "(2, 4)"
      ]
     },
     "execution_count": 24,
     "metadata": {},
     "output_type": "execute_result"
    }
   ],
   "source": [
    "b.shape"
   ]
  },
  {
   "cell_type": "code",
   "execution_count": 25,
   "id": "a8fce8ec-b925-4035-83f4-1e2f16edf7dc",
   "metadata": {},
   "outputs": [],
   "source": [
    "a_reshape=a.reshape(3,1)"
   ]
  },
  {
   "cell_type": "code",
   "execution_count": 26,
   "id": "d29a4e12-b802-4378-84da-47a7416c90b6",
   "metadata": {},
   "outputs": [
    {
     "data": {
      "text/plain": [
       "array([[ 2],\n",
       "       [23],\n",
       "       [23]])"
      ]
     },
     "execution_count": 26,
     "metadata": {},
     "output_type": "execute_result"
    }
   ],
   "source": [
    "a_reshape"
   ]
  },
  {
   "cell_type": "code",
   "execution_count": 29,
   "id": "90841e6a-0875-4d66-ac06-194180f138c6",
   "metadata": {},
   "outputs": [],
   "source": [
    "a=np.array([1,2,3])"
   ]
  },
  {
   "cell_type": "code",
   "execution_count": 31,
   "id": "9e4ed7fc-6fb1-445e-85c9-8b371f658672",
   "metadata": {},
   "outputs": [],
   "source": [
    "b=np.array(([[1,2,3],[4,5,6]]))"
   ]
  },
  {
   "cell_type": "code",
   "execution_count": 32,
   "id": "27c66d23-e3ce-48a4-a29e-855428df0644",
   "metadata": {},
   "outputs": [
    {
     "data": {
      "text/plain": [
       "array([[ 1,  4,  9],\n",
       "       [ 4, 10, 18]])"
      ]
     },
     "execution_count": 32,
     "metadata": {},
     "output_type": "execute_result"
    }
   ],
   "source": [
    "a*b"
   ]
  },
  {
   "cell_type": "code",
   "execution_count": 34,
   "id": "58605809-0d69-486d-8114-3e2676f9d7d7",
   "metadata": {},
   "outputs": [],
   "source": [
    "c=np.array([[[1,2,3],\n",
    "    [4,5,6],\n",
    "    [7,8,9]],\n",
    "   [[1,2,3],\n",
    "   [4,5,6],\n",
    "   [7,8,9]]])"
   ]
  },
  {
   "cell_type": "code",
   "execution_count": 35,
   "id": "0792ebc3-72a5-4aff-bf0b-d5fd76830772",
   "metadata": {},
   "outputs": [
    {
     "data": {
      "text/plain": [
       "(2, 3, 3)"
      ]
     },
     "execution_count": 35,
     "metadata": {},
     "output_type": "execute_result"
    }
   ],
   "source": [
    "c.shape"
   ]
  },
  {
   "cell_type": "code",
   "execution_count": 36,
   "id": "53fddcdb-67ae-489f-a80c-5dfb0a6cd547",
   "metadata": {},
   "outputs": [],
   "source": [
    "d=np.array([[1,2,3],\n",
    "           [4,5,6]])"
   ]
  },
  {
   "cell_type": "code",
   "execution_count": 37,
   "id": "220f38dc-458a-48c6-8c9c-770ed274ee06",
   "metadata": {},
   "outputs": [
    {
     "data": {
      "text/plain": [
       "(2, 3)"
      ]
     },
     "execution_count": 37,
     "metadata": {},
     "output_type": "execute_result"
    }
   ],
   "source": [
    "d.shape"
   ]
  },
  {
   "cell_type": "code",
   "execution_count": 44,
   "id": "176abad6-f3be-4bac-ada4-5c6fb6154d08",
   "metadata": {},
   "outputs": [],
   "source": [
    "d_reshape=d.reshape(2,3,1)"
   ]
  },
  {
   "cell_type": "code",
   "execution_count": 45,
   "id": "2de564cf-5a85-45a5-8af6-481126a33001",
   "metadata": {},
   "outputs": [
    {
     "data": {
      "text/plain": [
       "array([[[1],\n",
       "        [2],\n",
       "        [3]],\n",
       "\n",
       "       [[4],\n",
       "        [5],\n",
       "        [6]]])"
      ]
     },
     "execution_count": 45,
     "metadata": {},
     "output_type": "execute_result"
    }
   ],
   "source": [
    "d_reshape"
   ]
  },
  {
   "cell_type": "code",
   "execution_count": 46,
   "id": "193d62a8-83d1-4683-9b59-c2646fee2e0b",
   "metadata": {},
   "outputs": [
    {
     "data": {
      "text/plain": [
       "array([[[ 1,  2,  3],\n",
       "        [ 8, 10, 12],\n",
       "        [21, 24, 27]],\n",
       "\n",
       "       [[ 4,  8, 12],\n",
       "        [20, 25, 30],\n",
       "        [42, 48, 54]]])"
      ]
     },
     "execution_count": 46,
     "metadata": {},
     "output_type": "execute_result"
    }
   ],
   "source": [
    "d_reshape*c"
   ]
  },
  {
   "cell_type": "code",
   "execution_count": 48,
   "id": "0949b6cb-982d-4d30-a912-4bf2d84aee3a",
   "metadata": {},
   "outputs": [
    {
     "data": {
      "text/plain": [
       "array([[[1, 1],\n",
       "        [4, 4],\n",
       "        [7, 7]],\n",
       "\n",
       "       [[2, 2],\n",
       "        [5, 5],\n",
       "        [8, 8]],\n",
       "\n",
       "       [[3, 3],\n",
       "        [6, 6],\n",
       "        [9, 9]]])"
      ]
     },
     "execution_count": 48,
     "metadata": {},
     "output_type": "execute_result"
    }
   ],
   "source": [
    "c.T"
   ]
  },
  {
   "cell_type": "code",
   "execution_count": 49,
   "id": "56627f15-122a-45d2-86b1-7f082da6778d",
   "metadata": {},
   "outputs": [
    {
     "data": {
      "text/plain": [
       "((2, 3, 3), (3, 3, 2))"
      ]
     },
     "execution_count": 49,
     "metadata": {},
     "output_type": "execute_result"
    }
   ],
   "source": [
    "c.shape,c.T.shape"
   ]
  },
  {
   "cell_type": "code",
   "execution_count": 52,
   "id": "02b8ccdd-3e41-4a59-8920-18e6fc5ce9ee",
   "metadata": {},
   "outputs": [
    {
     "data": {
      "text/plain": [
       "array([[7, 5, 1],\n",
       "       [8, 7, 8],\n",
       "       [2, 9, 7]])"
      ]
     },
     "execution_count": 52,
     "metadata": {},
     "output_type": "execute_result"
    }
   ],
   "source": [
    "np.random.seed(4)\n",
    "np.random.randint(10,size=(3,3))"
   ]
  },
  {
   "cell_type": "code",
   "execution_count": 56,
   "id": "92a6a356-49a8-402f-b087-8bb6d28997ec",
   "metadata": {},
   "outputs": [
    {
     "data": {
      "text/plain": [
       "(array([[7, 5, 1],\n",
       "        [8, 7, 8],\n",
       "        [2, 9, 7],\n",
       "        [7, 7, 9],\n",
       "        [8, 4, 2]]),\n",
       " array([[6, 4, 3],\n",
       "        [0, 7, 5],\n",
       "        [5, 9, 6],\n",
       "        [6, 8, 2],\n",
       "        [5, 8, 1]]))"
      ]
     },
     "execution_count": 56,
     "metadata": {},
     "output_type": "execute_result"
    }
   ],
   "source": [
    "np.random.seed(seed=4)\n",
    "\n",
    "mat1=np.random.randint(10,size=(5,3))\n",
    "mat2=np.random.randint(10,size=(5,3))\n",
    "mat1,mat2"
   ]
  },
  {
   "cell_type": "code",
   "execution_count": 57,
   "id": "1b8c89af-1063-48d2-80cc-004845e1c4b1",
   "metadata": {},
   "outputs": [
    {
     "data": {
      "text/plain": [
       "array([[42, 20,  3],\n",
       "       [ 0, 49, 40],\n",
       "       [10, 81, 42],\n",
       "       [42, 56, 18],\n",
       "       [40, 32,  2]])"
      ]
     },
     "execution_count": 57,
     "metadata": {},
     "output_type": "execute_result"
    }
   ],
   "source": [
    "mat1*mat2"
   ]
  },
  {
   "cell_type": "code",
   "execution_count": 58,
   "id": "0bcc5cb6-816a-4c78-b8d8-5714006dbbd3",
   "metadata": {},
   "outputs": [
    {
     "data": {
      "text/plain": [
       "((5, 3), (5, 3))"
      ]
     },
     "execution_count": 58,
     "metadata": {},
     "output_type": "execute_result"
    }
   ],
   "source": [
    "mat1.shape,mat2.shape"
   ]
  },
  {
   "cell_type": "code",
   "execution_count": 59,
   "id": "9d24f6a3-5c3c-45a0-a314-0845c308c8ff",
   "metadata": {},
   "outputs": [
    {
     "data": {
      "text/plain": [
       "(3, 5)"
      ]
     },
     "execution_count": 59,
     "metadata": {},
     "output_type": "execute_result"
    }
   ],
   "source": [
    "mat1.T.shape"
   ]
  },
  {
   "cell_type": "code",
   "execution_count": 60,
   "id": "4a2a8b3c-d59d-49d0-b7eb-e1a36ce7346e",
   "metadata": {},
   "outputs": [],
   "source": [
    "mat2_1=mat2.T"
   ]
  },
  {
   "cell_type": "code",
   "execution_count": 62,
   "id": "db1c276e-7ef7-4183-bcb2-52d09c2c4430",
   "metadata": {},
   "outputs": [
    {
     "data": {
      "text/plain": [
       "array([[134, 137, 105],\n",
       "       [222, 238, 211],\n",
       "       [ 95, 122, 105]])"
      ]
     },
     "execution_count": 62,
     "metadata": {},
     "output_type": "execute_result"
    }
   ],
   "source": [
    "np.dot(mat2_1,mat1)"
   ]
  },
  {
   "cell_type": "code",
   "execution_count": 65,
   "id": "f4c95d44-113b-4f62-a989-0d0775ab2879",
   "metadata": {},
   "outputs": [
    {
     "data": {
      "text/plain": [
       "array([[10,  5, 16],\n",
       "       [ 1, 18, 17],\n",
       "       [18,  9, 10],\n",
       "       [ 1, 11,  9],\n",
       "       [ 5, 17,  5],\n",
       "       [16, 12, 12],\n",
       "       [ 2,  9,  5]])"
      ]
     },
     "execution_count": 65,
     "metadata": {},
     "output_type": "execute_result"
    }
   ],
   "source": [
    "np.random.seed(10)\n",
    "random_nums=np.random.randint(1,20,size=(7,3))\n",
    "random_nums"
   ]
  },
  {
   "cell_type": "code",
   "execution_count": 67,
   "id": "f68d433e-e991-4ba0-9551-b279a891fa1a",
   "metadata": {},
   "outputs": [],
   "source": [
    "Sales_table=pd.DataFrame(random_nums,index=[\"Sunday\",\"Monday\",\"Tuesday\",\"Wednesday\",\"Thursday\",\"Friday\",\"Saturday\"],\n",
    "                        columns=[\"Bread\",\"Butter\",\"Jam\"])"
   ]
  },
  {
   "cell_type": "code",
   "execution_count": 68,
   "id": "45efdc4e-f531-4df7-aded-0620128c777a",
   "metadata": {},
   "outputs": [
    {
     "data": {
      "text/html": [
       "<div>\n",
       "<style scoped>\n",
       "    .dataframe tbody tr th:only-of-type {\n",
       "        vertical-align: middle;\n",
       "    }\n",
       "\n",
       "    .dataframe tbody tr th {\n",
       "        vertical-align: top;\n",
       "    }\n",
       "\n",
       "    .dataframe thead th {\n",
       "        text-align: right;\n",
       "    }\n",
       "</style>\n",
       "<table border=\"1\" class=\"dataframe\">\n",
       "  <thead>\n",
       "    <tr style=\"text-align: right;\">\n",
       "      <th></th>\n",
       "      <th>Bread</th>\n",
       "      <th>Butter</th>\n",
       "      <th>Jam</th>\n",
       "    </tr>\n",
       "  </thead>\n",
       "  <tbody>\n",
       "    <tr>\n",
       "      <th>Sunday</th>\n",
       "      <td>10</td>\n",
       "      <td>5</td>\n",
       "      <td>16</td>\n",
       "    </tr>\n",
       "    <tr>\n",
       "      <th>Monday</th>\n",
       "      <td>1</td>\n",
       "      <td>18</td>\n",
       "      <td>17</td>\n",
       "    </tr>\n",
       "    <tr>\n",
       "      <th>Tuesday</th>\n",
       "      <td>18</td>\n",
       "      <td>9</td>\n",
       "      <td>10</td>\n",
       "    </tr>\n",
       "    <tr>\n",
       "      <th>Wednesday</th>\n",
       "      <td>1</td>\n",
       "      <td>11</td>\n",
       "      <td>9</td>\n",
       "    </tr>\n",
       "    <tr>\n",
       "      <th>Thursday</th>\n",
       "      <td>5</td>\n",
       "      <td>17</td>\n",
       "      <td>5</td>\n",
       "    </tr>\n",
       "    <tr>\n",
       "      <th>Friday</th>\n",
       "      <td>16</td>\n",
       "      <td>12</td>\n",
       "      <td>12</td>\n",
       "    </tr>\n",
       "    <tr>\n",
       "      <th>Saturday</th>\n",
       "      <td>2</td>\n",
       "      <td>9</td>\n",
       "      <td>5</td>\n",
       "    </tr>\n",
       "  </tbody>\n",
       "</table>\n",
       "</div>"
      ],
      "text/plain": [
       "           Bread  Butter  Jam\n",
       "Sunday        10       5   16\n",
       "Monday         1      18   17\n",
       "Tuesday       18       9   10\n",
       "Wednesday      1      11    9\n",
       "Thursday       5      17    5\n",
       "Friday        16      12   12\n",
       "Saturday       2       9    5"
      ]
     },
     "execution_count": 68,
     "metadata": {},
     "output_type": "execute_result"
    }
   ],
   "source": [
    "Sales_table"
   ]
  },
  {
   "cell_type": "code",
   "execution_count": 69,
   "id": "479d53ab-4d0a-4e0a-bb60-4768334d5286",
   "metadata": {},
   "outputs": [],
   "source": [
    "prices=np.array([10,15,12])"
   ]
  },
  {
   "cell_type": "code",
   "execution_count": 70,
   "id": "81987cdc-4f47-432d-aae0-6b4d3138b1d8",
   "metadata": {},
   "outputs": [
    {
     "data": {
      "text/plain": [
       "array([10, 15, 12])"
      ]
     },
     "execution_count": 70,
     "metadata": {},
     "output_type": "execute_result"
    }
   ],
   "source": [
    "prices"
   ]
  },
  {
   "cell_type": "code",
   "execution_count": 75,
   "id": "e9c11e77-fd8f-4bad-85de-1e2d04bc6f4f",
   "metadata": {},
   "outputs": [],
   "source": [
    "prices=prices.reshape(1,3)"
   ]
  },
  {
   "cell_type": "code",
   "execution_count": 77,
   "id": "a3afcfc0-3735-458f-8260-3112f34a503b",
   "metadata": {},
   "outputs": [
    {
     "data": {
      "text/html": [
       "<div>\n",
       "<style scoped>\n",
       "    .dataframe tbody tr th:only-of-type {\n",
       "        vertical-align: middle;\n",
       "    }\n",
       "\n",
       "    .dataframe tbody tr th {\n",
       "        vertical-align: top;\n",
       "    }\n",
       "\n",
       "    .dataframe thead th {\n",
       "        text-align: right;\n",
       "    }\n",
       "</style>\n",
       "<table border=\"1\" class=\"dataframe\">\n",
       "  <thead>\n",
       "    <tr style=\"text-align: right;\">\n",
       "      <th></th>\n",
       "      <th>Bread</th>\n",
       "      <th>Butter</th>\n",
       "      <th>Jam</th>\n",
       "    </tr>\n",
       "  </thead>\n",
       "  <tbody>\n",
       "    <tr>\n",
       "      <th>Price</th>\n",
       "      <td>10</td>\n",
       "      <td>15</td>\n",
       "      <td>12</td>\n",
       "    </tr>\n",
       "  </tbody>\n",
       "</table>\n",
       "</div>"
      ],
      "text/plain": [
       "       Bread  Butter  Jam\n",
       "Price     10      15   12"
      ]
     },
     "execution_count": 77,
     "metadata": {},
     "output_type": "execute_result"
    }
   ],
   "source": [
    "prices_table=pd.DataFrame(prices,index=[\"Price\"],columns=[\"Bread\",\"Butter\",\"Jam\"])\n",
    "prices_table"
   ]
  },
  {
   "cell_type": "code",
   "execution_count": 78,
   "id": "a83da9f9-af86-4c07-b23b-8492d8a3d174",
   "metadata": {},
   "outputs": [
    {
     "data": {
      "text/plain": [
       "((1, 3), (7, 3))"
      ]
     },
     "execution_count": 78,
     "metadata": {},
     "output_type": "execute_result"
    }
   ],
   "source": [
    "prices.shape,random_nums.shape"
   ]
  },
  {
   "cell_type": "code",
   "execution_count": 89,
   "id": "3e30afc7-ee47-487b-acd0-71fda91f5818",
   "metadata": {},
   "outputs": [
    {
     "data": {
      "text/plain": [
       "array([[367, 484, 435, 283, 365, 484, 215]])"
      ]
     },
     "execution_count": 89,
     "metadata": {},
     "output_type": "execute_result"
    }
   ],
   "source": [
    "Total_sales=prices.dot(random_nums.T)\n",
    "Total_sales"
   ]
  },
  {
   "cell_type": "code",
   "execution_count": 91,
   "id": "f6213015-3721-4cd3-a838-5df40a2d5aa5",
   "metadata": {},
   "outputs": [],
   "source": [
    "prices_col=pd.DataFrame(Total_sales,index=[\"Prices\"]\n",
    "                        ,columns=[\"Sunday\",\"Monday\",\"Tuesday\",\"Wednesday\",\"Thursday\",\"Friday\",\"Saturday\"])"
   ]
  },
  {
   "cell_type": "code",
   "execution_count": 92,
   "id": "3eabbbdd-5143-4ccf-9c1d-358e6eb84242",
   "metadata": {},
   "outputs": [
    {
     "data": {
      "text/html": [
       "<div>\n",
       "<style scoped>\n",
       "    .dataframe tbody tr th:only-of-type {\n",
       "        vertical-align: middle;\n",
       "    }\n",
       "\n",
       "    .dataframe tbody tr th {\n",
       "        vertical-align: top;\n",
       "    }\n",
       "\n",
       "    .dataframe thead th {\n",
       "        text-align: right;\n",
       "    }\n",
       "</style>\n",
       "<table border=\"1\" class=\"dataframe\">\n",
       "  <thead>\n",
       "    <tr style=\"text-align: right;\">\n",
       "      <th></th>\n",
       "      <th>Sunday</th>\n",
       "      <th>Monday</th>\n",
       "      <th>Tuesday</th>\n",
       "      <th>Wednesday</th>\n",
       "      <th>Thursday</th>\n",
       "      <th>Friday</th>\n",
       "      <th>Saturday</th>\n",
       "    </tr>\n",
       "  </thead>\n",
       "  <tbody>\n",
       "    <tr>\n",
       "      <th>Prices</th>\n",
       "      <td>367</td>\n",
       "      <td>484</td>\n",
       "      <td>435</td>\n",
       "      <td>283</td>\n",
       "      <td>365</td>\n",
       "      <td>484</td>\n",
       "      <td>215</td>\n",
       "    </tr>\n",
       "  </tbody>\n",
       "</table>\n",
       "</div>"
      ],
      "text/plain": [
       "        Sunday  Monday  Tuesday  Wednesday  Thursday  Friday  Saturday\n",
       "Prices     367     484      435        283       365     484       215"
      ]
     },
     "execution_count": 92,
     "metadata": {},
     "output_type": "execute_result"
    }
   ],
   "source": [
    "prices_col"
   ]
  },
  {
   "cell_type": "code",
   "execution_count": 95,
   "id": "95553613-f4d3-47de-99f3-c1c187f1d69a",
   "metadata": {},
   "outputs": [
    {
     "data": {
      "text/plain": [
       "((7, 3), (1, 7))"
      ]
     },
     "execution_count": 95,
     "metadata": {},
     "output_type": "execute_result"
    }
   ],
   "source": [
    "Sales_table.shape,prices_col.shape"
   ]
  },
  {
   "cell_type": "code",
   "execution_count": 97,
   "id": "8799678b-6c43-4d2d-a194-999c25ff4595",
   "metadata": {},
   "outputs": [],
   "source": [
    "Sales_table[\"Amount\"]=prices_col.T"
   ]
  },
  {
   "cell_type": "code",
   "execution_count": 98,
   "id": "70a8d557-2854-414c-872d-d7b8da2265db",
   "metadata": {},
   "outputs": [
    {
     "data": {
      "text/html": [
       "<div>\n",
       "<style scoped>\n",
       "    .dataframe tbody tr th:only-of-type {\n",
       "        vertical-align: middle;\n",
       "    }\n",
       "\n",
       "    .dataframe tbody tr th {\n",
       "        vertical-align: top;\n",
       "    }\n",
       "\n",
       "    .dataframe thead th {\n",
       "        text-align: right;\n",
       "    }\n",
       "</style>\n",
       "<table border=\"1\" class=\"dataframe\">\n",
       "  <thead>\n",
       "    <tr style=\"text-align: right;\">\n",
       "      <th></th>\n",
       "      <th>Bread</th>\n",
       "      <th>Butter</th>\n",
       "      <th>Jam</th>\n",
       "      <th>Amount</th>\n",
       "    </tr>\n",
       "  </thead>\n",
       "  <tbody>\n",
       "    <tr>\n",
       "      <th>Sunday</th>\n",
       "      <td>10</td>\n",
       "      <td>5</td>\n",
       "      <td>16</td>\n",
       "      <td>367</td>\n",
       "    </tr>\n",
       "    <tr>\n",
       "      <th>Monday</th>\n",
       "      <td>1</td>\n",
       "      <td>18</td>\n",
       "      <td>17</td>\n",
       "      <td>484</td>\n",
       "    </tr>\n",
       "    <tr>\n",
       "      <th>Tuesday</th>\n",
       "      <td>18</td>\n",
       "      <td>9</td>\n",
       "      <td>10</td>\n",
       "      <td>435</td>\n",
       "    </tr>\n",
       "    <tr>\n",
       "      <th>Wednesday</th>\n",
       "      <td>1</td>\n",
       "      <td>11</td>\n",
       "      <td>9</td>\n",
       "      <td>283</td>\n",
       "    </tr>\n",
       "    <tr>\n",
       "      <th>Thursday</th>\n",
       "      <td>5</td>\n",
       "      <td>17</td>\n",
       "      <td>5</td>\n",
       "      <td>365</td>\n",
       "    </tr>\n",
       "    <tr>\n",
       "      <th>Friday</th>\n",
       "      <td>16</td>\n",
       "      <td>12</td>\n",
       "      <td>12</td>\n",
       "      <td>484</td>\n",
       "    </tr>\n",
       "    <tr>\n",
       "      <th>Saturday</th>\n",
       "      <td>2</td>\n",
       "      <td>9</td>\n",
       "      <td>5</td>\n",
       "      <td>215</td>\n",
       "    </tr>\n",
       "  </tbody>\n",
       "</table>\n",
       "</div>"
      ],
      "text/plain": [
       "           Bread  Butter  Jam  Amount\n",
       "Sunday        10       5   16     367\n",
       "Monday         1      18   17     484\n",
       "Tuesday       18       9   10     435\n",
       "Wednesday      1      11    9     283\n",
       "Thursday       5      17    5     365\n",
       "Friday        16      12   12     484\n",
       "Saturday       2       9    5     215"
      ]
     },
     "execution_count": 98,
     "metadata": {},
     "output_type": "execute_result"
    }
   ],
   "source": [
    "Sales_table"
   ]
  },
  {
   "cell_type": "code",
   "execution_count": 3,
   "id": "cc12ab07-6ffa-4164-8dc3-0ced01ce778c",
   "metadata": {},
   "outputs": [],
   "source": [
    "import pandas as pd\n",
    "import numpy as np\n",
    "import matplotlib.pyplot as plt\n",
    "import sklearn"
   ]
  },
  {
   "cell_type": "code",
   "execution_count": 4,
   "id": "606665b0-339f-43d4-bdb9-cb157f44f6e6",
   "metadata": {},
   "outputs": [],
   "source": [
    "a=np.array([10,1,34])"
   ]
  },
  {
   "cell_type": "code",
   "execution_count": 5,
   "id": "f14416d0-433f-4b9d-b5dc-eecb692e9845",
   "metadata": {},
   "outputs": [
    {
     "data": {
      "text/plain": [
       "array([10,  1, 34])"
      ]
     },
     "execution_count": 5,
     "metadata": {},
     "output_type": "execute_result"
    }
   ],
   "source": [
    "a"
   ]
  },
  {
   "cell_type": "code",
   "execution_count": 6,
   "id": "44ccfcf1-17af-459a-985b-319e9c7f25c1",
   "metadata": {},
   "outputs": [
    {
     "data": {
      "text/plain": [
       "(array([ 1, 10, 34]), array([1, 0, 2], dtype=int64))"
      ]
     },
     "execution_count": 6,
     "metadata": {},
     "output_type": "execute_result"
    }
   ],
   "source": [
    "np.sort(a),np.argsort(a)"
   ]
  },
  {
   "cell_type": "code",
   "execution_count": 10,
   "id": "bad7f7fe-7d1b-4727-b379-4b67372a955d",
   "metadata": {},
   "outputs": [],
   "source": [
    "b=np.array([[67,10,43],\n",
    "           [43,77,46]])"
   ]
  },
  {
   "cell_type": "code",
   "execution_count": 11,
   "id": "de6a1ceb-7e91-4de1-bac7-945e371f89eb",
   "metadata": {},
   "outputs": [
    {
     "data": {
      "text/plain": [
       "(2, 3)"
      ]
     },
     "execution_count": 11,
     "metadata": {},
     "output_type": "execute_result"
    }
   ],
   "source": [
    "b.shape"
   ]
  },
  {
   "cell_type": "code",
   "execution_count": 18,
   "id": "68a1c9fd-87a9-40d6-af4c-eea13af274ba",
   "metadata": {},
   "outputs": [
    {
     "data": {
      "text/plain": [
       "2"
      ]
     },
     "execution_count": 18,
     "metadata": {},
     "output_type": "execute_result"
    }
   ],
   "source": [
    "np.argmax(a,axis=0)"
   ]
  },
  {
   "cell_type": "code",
   "execution_count": 19,
   "id": "93fcec2f-7119-47b5-a705-4a77f3c6a433",
   "metadata": {},
   "outputs": [
    {
     "data": {
      "text/plain": [
       "array([0, 1, 1], dtype=int64)"
      ]
     },
     "execution_count": 19,
     "metadata": {},
     "output_type": "execute_result"
    }
   ],
   "source": [
    "np.argmax(b,axis=0)"
   ]
  },
  {
   "cell_type": "markdown",
   "id": "57746b2d-5439-4351-acbb-79916b139256",
   "metadata": {},
   "source": [
    "<img src=\"Katta_login_bg_3.jpg\"/>"
   ]
  },
  {
   "cell_type": "code",
   "execution_count": 22,
   "id": "b6d89aa3-9187-42a5-b44b-1f9516db6415",
   "metadata": {},
   "outputs": [],
   "source": [
    "from matplotlib.image import imread\n",
    "katta=imread(\"Katta_login_bg_3.jpg\")"
   ]
  },
  {
   "cell_type": "code",
   "execution_count": 25,
   "id": "b80eda38-f5c7-429d-ac7b-3f1c4e7f75cc",
   "metadata": {},
   "outputs": [
    {
     "data": {
      "text/plain": [
       "numpy.ndarray"
      ]
     },
     "execution_count": 25,
     "metadata": {},
     "output_type": "execute_result"
    }
   ],
   "source": [
    "type(katta)"
   ]
  },
  {
   "cell_type": "code",
   "execution_count": 26,
   "id": "3d774a70-b1fc-40a9-bc37-e163bc3e823a",
   "metadata": {},
   "outputs": [
    {
     "data": {
      "text/plain": [
       "array([[[ 87, 255, 222],\n",
       "        [ 87, 255, 222],\n",
       "        [ 87, 255, 222],\n",
       "        ...,\n",
       "        [ 87, 255, 222],\n",
       "        [ 87, 255, 222],\n",
       "        [ 87, 255, 222]],\n",
       "\n",
       "       [[ 87, 255, 222],\n",
       "        [ 87, 255, 222],\n",
       "        [ 87, 255, 222],\n",
       "        ...,\n",
       "        [ 87, 255, 222],\n",
       "        [ 87, 255, 222],\n",
       "        [ 87, 255, 222]],\n",
       "\n",
       "       [[ 87, 255, 222],\n",
       "        [ 87, 255, 222],\n",
       "        [ 87, 255, 222],\n",
       "        ...,\n",
       "        [ 87, 255, 222],\n",
       "        [ 87, 255, 222],\n",
       "        [ 87, 255, 222]],\n",
       "\n",
       "       ...,\n",
       "\n",
       "       [[ 78, 255, 203],\n",
       "        [ 78, 255, 203],\n",
       "        [ 78, 255, 203],\n",
       "        ...,\n",
       "        [ 83, 254, 210],\n",
       "        [ 83, 254, 210],\n",
       "        [ 83, 254, 210]],\n",
       "\n",
       "       [[ 79, 255, 206],\n",
       "        [ 79, 255, 206],\n",
       "        [ 79, 255, 206],\n",
       "        ...,\n",
       "        [ 84, 255, 211],\n",
       "        [ 84, 255, 211],\n",
       "        [ 84, 255, 211]],\n",
       "\n",
       "       [[ 80, 255, 207],\n",
       "        [ 80, 255, 207],\n",
       "        [ 80, 255, 207],\n",
       "        ...,\n",
       "        [ 84, 255, 211],\n",
       "        [ 84, 255, 211],\n",
       "        [ 84, 255, 211]]], dtype=uint8)"
      ]
     },
     "execution_count": 26,
     "metadata": {},
     "output_type": "execute_result"
    }
   ],
   "source": [
    "katta"
   ]
  },
  {
   "cell_type": "code",
   "execution_count": 27,
   "id": "73d2d203-7f40-4efe-ac30-a08d2f589f56",
   "metadata": {},
   "outputs": [
    {
     "data": {
      "text/plain": [
       "array([[[ 87, 255, 222],\n",
       "        [ 87, 255, 222],\n",
       "        [ 87, 255, 222],\n",
       "        ...,\n",
       "        [ 87, 255, 222],\n",
       "        [ 87, 255, 222],\n",
       "        [ 87, 255, 222]],\n",
       "\n",
       "       [[ 87, 255, 222],\n",
       "        [ 87, 255, 222],\n",
       "        [ 87, 255, 222],\n",
       "        ...,\n",
       "        [ 87, 255, 222],\n",
       "        [ 87, 255, 222],\n",
       "        [ 87, 255, 222]],\n",
       "\n",
       "       [[ 87, 255, 222],\n",
       "        [ 87, 255, 222],\n",
       "        [ 87, 255, 222],\n",
       "        ...,\n",
       "        [ 87, 255, 222],\n",
       "        [ 87, 255, 222],\n",
       "        [ 87, 255, 222]],\n",
       "\n",
       "       [[ 87, 255, 222],\n",
       "        [ 87, 255, 222],\n",
       "        [ 87, 255, 222],\n",
       "        ...,\n",
       "        [ 87, 255, 222],\n",
       "        [ 87, 255, 222],\n",
       "        [ 87, 255, 222]],\n",
       "\n",
       "       [[ 87, 255, 220],\n",
       "        [ 87, 255, 220],\n",
       "        [ 87, 255, 220],\n",
       "        ...,\n",
       "        [ 87, 255, 220],\n",
       "        [ 87, 255, 220],\n",
       "        [ 87, 255, 220]]], dtype=uint8)"
      ]
     },
     "execution_count": 27,
     "metadata": {},
     "output_type": "execute_result"
    }
   ],
   "source": [
    "katta[:5]"
   ]
  },
  {
   "cell_type": "code",
   "execution_count": 28,
   "id": "5100f8a7-d213-46f1-af71-ec884a725dab",
   "metadata": {},
   "outputs": [],
   "source": [
    "katta_2=imread(\"Katta_logo.png\")"
   ]
  },
  {
   "cell_type": "code",
   "execution_count": 29,
   "id": "f0f4c784-0a19-45eb-9604-fea6c109d054",
   "metadata": {},
   "outputs": [
    {
     "data": {
      "text/plain": [
       "array([[[0., 0., 0., 0.],\n",
       "        [0., 0., 0., 0.],\n",
       "        [0., 0., 0., 0.],\n",
       "        ...,\n",
       "        [0., 0., 0., 0.],\n",
       "        [0., 0., 0., 0.],\n",
       "        [0., 0., 0., 0.]],\n",
       "\n",
       "       [[0., 0., 0., 0.],\n",
       "        [0., 0., 0., 0.],\n",
       "        [0., 0., 0., 0.],\n",
       "        ...,\n",
       "        [0., 0., 0., 0.],\n",
       "        [0., 0., 0., 0.],\n",
       "        [0., 0., 0., 0.]],\n",
       "\n",
       "       [[0., 0., 0., 0.],\n",
       "        [0., 0., 0., 0.],\n",
       "        [0., 0., 0., 0.],\n",
       "        ...,\n",
       "        [0., 0., 0., 0.],\n",
       "        [0., 0., 0., 0.],\n",
       "        [0., 0., 0., 0.]],\n",
       "\n",
       "       ...,\n",
       "\n",
       "       [[0., 0., 0., 0.],\n",
       "        [0., 0., 0., 0.],\n",
       "        [0., 0., 0., 0.],\n",
       "        ...,\n",
       "        [0., 0., 0., 0.],\n",
       "        [0., 0., 0., 0.],\n",
       "        [0., 0., 0., 0.]],\n",
       "\n",
       "       [[0., 0., 0., 0.],\n",
       "        [0., 0., 0., 0.],\n",
       "        [0., 0., 0., 0.],\n",
       "        ...,\n",
       "        [0., 0., 0., 0.],\n",
       "        [0., 0., 0., 0.],\n",
       "        [0., 0., 0., 0.]],\n",
       "\n",
       "       [[0., 0., 0., 0.],\n",
       "        [0., 0., 0., 0.],\n",
       "        [0., 0., 0., 0.],\n",
       "        ...,\n",
       "        [0., 0., 0., 0.],\n",
       "        [0., 0., 0., 0.],\n",
       "        [0., 0., 0., 0.]]], dtype=float32)"
      ]
     },
     "execution_count": 29,
     "metadata": {},
     "output_type": "execute_result"
    }
   ],
   "source": [
    "katta_2"
   ]
  },
  {
   "cell_type": "markdown",
   "id": "b7d7e9e6-b0e1-49b3-83f1-497cade53382",
   "metadata": {},
   "source": [
    "<img src=\"Katta_logo.png\"/>"
   ]
  },
  {
   "cell_type": "markdown",
   "id": "e40674d1-1509-4d7b-95a2-2f3dc4752b9c",
   "metadata": {},
   "source": [
    "<img src=\"Katta_logo_bg.png\"/>"
   ]
  },
  {
   "cell_type": "code",
   "execution_count": 31,
   "id": "3d122177-c7a3-435c-a0e8-caa64a23541b",
   "metadata": {},
   "outputs": [],
   "source": [
    "katta_3=imread(\"Katta_logo_bg.png\")"
   ]
  },
  {
   "cell_type": "code",
   "execution_count": 32,
   "id": "d52fe153-54fd-4b07-94a5-b5ff0447506a",
   "metadata": {},
   "outputs": [
    {
     "data": {
      "text/plain": [
       "array([[[0.8745098 , 0.7882353 , 0.63529414, 1.        ],\n",
       "        [0.8745098 , 0.7882353 , 0.63529414, 1.        ],\n",
       "        [0.8745098 , 0.7882353 , 0.63529414, 1.        ],\n",
       "        ...,\n",
       "        [0.8745098 , 0.7882353 , 0.63529414, 1.        ],\n",
       "        [0.8745098 , 0.7882353 , 0.63529414, 1.        ],\n",
       "        [0.8745098 , 0.7882353 , 0.63529414, 1.        ]],\n",
       "\n",
       "       [[0.8745098 , 0.7882353 , 0.63529414, 1.        ],\n",
       "        [0.8745098 , 0.7882353 , 0.63529414, 1.        ],\n",
       "        [0.8745098 , 0.7882353 , 0.63529414, 1.        ],\n",
       "        ...,\n",
       "        [0.8745098 , 0.7882353 , 0.63529414, 1.        ],\n",
       "        [0.8745098 , 0.7882353 , 0.63529414, 1.        ],\n",
       "        [0.8745098 , 0.7882353 , 0.63529414, 1.        ]],\n",
       "\n",
       "       [[0.8745098 , 0.7882353 , 0.63529414, 1.        ],\n",
       "        [0.8745098 , 0.7882353 , 0.63529414, 1.        ],\n",
       "        [0.8745098 , 0.7882353 , 0.63529414, 1.        ],\n",
       "        ...,\n",
       "        [0.8745098 , 0.7882353 , 0.63529414, 1.        ],\n",
       "        [0.8745098 , 0.7882353 , 0.63529414, 1.        ],\n",
       "        [0.8745098 , 0.7882353 , 0.63529414, 1.        ]],\n",
       "\n",
       "       ...,\n",
       "\n",
       "       [[0.7921569 , 0.68235296, 0.54509807, 1.        ],\n",
       "        [0.7647059 , 0.6509804 , 0.5176471 , 1.        ],\n",
       "        [0.7294118 , 0.6156863 , 0.4862745 , 1.        ],\n",
       "        ...,\n",
       "        [0.8745098 , 0.7882353 , 0.63529414, 1.        ],\n",
       "        [0.8745098 , 0.7882353 , 0.63529414, 1.        ],\n",
       "        [0.8745098 , 0.7882353 , 0.63529414, 1.        ]],\n",
       "\n",
       "       [[0.7882353 , 0.68235296, 0.5411765 , 1.        ],\n",
       "        [0.7607843 , 0.64705884, 0.5137255 , 1.        ],\n",
       "        [0.72156864, 0.6039216 , 0.48235294, 1.        ],\n",
       "        ...,\n",
       "        [0.8745098 , 0.7882353 , 0.63529414, 1.        ],\n",
       "        [0.8745098 , 0.7882353 , 0.63529414, 1.        ],\n",
       "        [0.8745098 , 0.7882353 , 0.63529414, 1.        ]],\n",
       "\n",
       "       [[0.7882353 , 0.68235296, 0.5411765 , 1.        ],\n",
       "        [0.75686276, 0.64705884, 0.50980395, 1.        ],\n",
       "        [0.7176471 , 0.6039216 , 0.47843137, 1.        ],\n",
       "        ...,\n",
       "        [0.8745098 , 0.7882353 , 0.63529414, 1.        ],\n",
       "        [0.8745098 , 0.7882353 , 0.63529414, 1.        ],\n",
       "        [0.8745098 , 0.7882353 , 0.63529414, 1.        ]]], dtype=float32)"
      ]
     },
     "execution_count": 32,
     "metadata": {},
     "output_type": "execute_result"
    }
   ],
   "source": [
    "katta_3"
   ]
  },
  {
   "cell_type": "code",
   "execution_count": null,
   "id": "4de556d8-1f85-4107-8848-ff9f9bc5d775",
   "metadata": {},
   "outputs": [],
   "source": []
  }
 ],
 "metadata": {
  "kernelspec": {
   "display_name": "Python 3 (ipykernel)",
   "language": "python",
   "name": "python3"
  },
  "language_info": {
   "codemirror_mode": {
    "name": "ipython",
    "version": 3
   },
   "file_extension": ".py",
   "mimetype": "text/x-python",
   "name": "python",
   "nbconvert_exporter": "python",
   "pygments_lexer": "ipython3",
   "version": "3.11.8"
  }
 },
 "nbformat": 4,
 "nbformat_minor": 5
}
